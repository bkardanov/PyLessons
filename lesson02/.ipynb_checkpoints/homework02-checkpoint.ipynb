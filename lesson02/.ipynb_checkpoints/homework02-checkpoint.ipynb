{
 "cells": [
  {
   "cell_type": "code",
   "execution_count": null,
   "metadata": {
    "collapsed": true
   },
   "outputs": [],
   "source": [
    "# - Вводим с консоли число от 0 до 1000. Выводим меньшую и большую цифру числа. (Пример: 15 => 1 -меньшая, 5 - большая)\n",
    "\n",
    "while(True):\n",
    "    sn = input(\"input number: \")\n",
    "    n = int(sn)\n",
    "    if (n < 0) or (n > 1000):\n",
    "        print('Error: incorrect number. Input number between 0 and 1000.')\n",
    "    else:\n",
    "        break\n",
    "    \n",
    "l = h = sn[0]\n",
    "\n",
    "for i in range(len(sn)):\n",
    "    if sn[i] < l:\n",
    "        l = sn[i]\n",
    "    if sn[i] > h:\n",
    "        h = sn[i]\n",
    "print('max: %s \\nmin: %s' % (h, l))\n"
   ]
  },
  {
   "cell_type": "code",
   "execution_count": null,
   "metadata": {},
   "outputs": [],
   "source": [
    "# - Нужно хранить соответствие месяцу порядкового номера от 0 до 11. \n",
    "# С консоли вводим либо номер месяца от 0 до 11 => получаем название месяца, \n",
    "# вводим название месяца => получаем порядковый номер месяца\n",
    "\n",
    "lm = (\n",
    "    'January',\n",
    "    'February',\n",
    "    'March',\n",
    "    'April',\n",
    "    'May',\n",
    "    'June',\n",
    "    'July',\n",
    "    'August',\n",
    "    'September',\n",
    "    'October',\n",
    "    'November',\n",
    "    'December'\n",
    "    )\n",
    "\n",
    "# цикл пока не будут введены корректные значения номера или названия месяца\n",
    "while(True):\n",
    "    s = input('Input the number or the name of the month: ')\n",
    "    cs = s.capitalize()\n",
    "    if (cs in lm) or ((s.isdecimal()) and (0 <= int(s) <= 11)):\n",
    "        break\n",
    "    else:\n",
    "        print('Incorrect input. Try again.')\n",
    "        \n",
    "        \n",
    "if s.isdecimal():\n",
    "    print('The month with index %s is \"%s\"' % (int(s), lm[int(s)]))\n",
    "else:\n",
    "    dm={}\n",
    "    for i,vl in enumerate(lm):\n",
    "        dm[vl] = i\n",
    "    print('The number of month \"%s\" is %s' % (cs, dm[cs]))\n",
    "# s = int(input('Input month nomber or month name'))\n",
    "# print(lm[s])\n"
   ]
  },
  {
   "cell_type": "code",
   "execution_count": null,
   "metadata": {},
   "outputs": [],
   "source": [
    "# - Возьмите любой текст из книги, в котором есть побольше знаков. \n",
    "# Привести все слова к нижнему регистру. \n",
    "# Составьте свое соответствие знака препинания и слова (например “.” => “[dot]” и тд). \n",
    "# Замените все знаки в тесте на их представление. \n",
    "# Получить частоту вхождения в текст каждого слова (включая представления знаков). \n",
    "# Составить представление текста вида слово => список номеров слова в тексте (Пример: “мама мыла мама” => “мама”: [0,2])\n",
    "\n",
    "txt = '''\n",
    "Ночью ты посмотришь на звезды. Моя звезда очень маленькая, я не могу ее тебе показать. Так лучше. Она будет для тебя \n",
    "просто - одна из звезд. И ты полюбишь смотреть на звезды… Все они станут тебе друзьями. И потом, я тебе кое-что \n",
    "подарю… - Вот это и есть мой подарок… это будет, как с водой… - У каждого человека свои звезды. Одним - тем, кто \n",
    "странствует, - они указывают путь. Для других это просто маленькие огоньки. Для ученых они-как задача, которую надо \n",
    "решить. Для моего дельца они - золото. Но для всех этих людей звезды-немые. А у тебя будут совсем особенные звезды… \n",
    "— Ты посмотришь ночью на небо, а ведь там будет такая звезда, где я живу, где я смеюсь, — и ты услышишь, что все \n",
    "звезды смеются. У тебя будут звезды, которые умеют смеяться! И когда ты утешишься (в конце концов всегда утешаешься), \n",
    "ты будешь рад, что знал меня когда-то. Ты всегда будешь мне другом. Тебе захочется посмеяться со мною. Иной раз ты \n",
    "вот так распахнешь окно, и тебе будет приятно… И твои друзья станут удивляться, что ты смеешься, глядя на небо. А ты \n",
    "им скажешь: \"Да, да, я всегда смеюсь, глядя на звезды! \" И они подумают, что ты сошел с ума. Вот какую злую шутку я \n",
    "с тобой сыграю.\n",
    "'''\n",
    "lt = txt.replace('\\n','').replace('\\r', '').lower()\n",
    "lt\n"
   ]
  },
  {
   "cell_type": "code",
   "execution_count": null,
   "metadata": {},
   "outputs": [],
   "source": [
    "dc = {\n",
    "    \".\": \" #dot \",\n",
    "    \",\": \" #comma \",\n",
    "    \";\": \" #semicolon \",\n",
    "    \":\": \" #colon \",\n",
    "    \"-\": \" #dash \",\n",
    "    \"\\\"\": \" #quotes \",\n",
    "    \"?\": \" #question \",\n",
    "    \"!\": \" #exclamation \",\n",
    "    \"—\": \" #long_dash\"\n",
    "    }\n",
    "\n",
    "for c in dc:\n",
    "    lt = lt.replace(c, dc[c])\n",
    "print(lt)"
   ]
  },
  {
   "cell_type": "code",
   "execution_count": null,
   "metadata": {},
   "outputs": [],
   "source": [
    "wf = {}\n",
    "wl = lt.split(' ')\n",
    "for w in wl:\n",
    "    try:\n",
    "        wf[w] += 1\n",
    "    except:\n",
    "        wf[w] = 1\n",
    "wf\n"
   ]
  },
  {
   "cell_type": "code",
   "execution_count": null,
   "metadata": {
    "scrolled": true
   },
   "outputs": [],
   "source": [
    "wp = {}\n",
    "for i, w in enumerate(wl):\n",
    "    try:\n",
    "        wp[w].append(i)\n",
    "    except:\n",
    "        wp[w] = [i]\n",
    "print(wp)"
   ]
  }
 ],
 "metadata": {
  "kernelspec": {
   "display_name": "Python 3",
   "language": "python",
   "name": "python3"
  },
  "language_info": {
   "codemirror_mode": {
    "name": "ipython",
    "version": 3
   },
   "file_extension": ".py",
   "mimetype": "text/x-python",
   "name": "python",
   "nbconvert_exporter": "python",
   "pygments_lexer": "ipython3",
   "version": "3.6.1"
  }
 },
 "nbformat": 4,
 "nbformat_minor": 2
}
